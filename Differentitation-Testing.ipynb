{
 "cells": [
  {
   "cell_type": "code",
   "execution_count": 2,
   "metadata": {},
   "outputs": [],
   "source": [
    "from sympy import *\n",
    "x,y = symbols('x y')"
   ]
  },
  {
   "cell_type": "code",
   "execution_count": 3,
   "metadata": {},
   "outputs": [
    {
     "data": {
      "text/latex": [
       "$\\displaystyle 3 x^{0.5} + 5 \\log{\\left(x \\right)} + 4 \\cosh{\\left(x \\right)} - \\frac{2}{x^{3}}$"
      ],
      "text/plain": [
       "3*x**0.5 + 5*log(x) + 4*cosh(x) - 2/x**3"
      ]
     },
     "execution_count": 3,
     "metadata": {},
     "output_type": "execute_result"
    }
   ],
   "source": [
    "expr = 3*x**(1/2) + 4*cosh(x) -2/x**3 + 5*ln(x)\n",
    "expr"
   ]
  },
  {
   "cell_type": "code",
   "execution_count": 4,
   "metadata": {},
   "outputs": [
    {
     "data": {
      "text/latex": [
       "$\\displaystyle \\frac{1.5}{x^{0.5}} + 4 \\sinh{\\left(x \\right)} + \\frac{5}{x} + \\frac{6}{x^{4}}$"
      ],
      "text/plain": [
       "1.5/x**0.5 + 4*sinh(x) + 5/x + 6/x**4"
      ]
     },
     "execution_count": 4,
     "metadata": {},
     "output_type": "execute_result"
    }
   ],
   "source": [
    "diff(expr)"
   ]
  },
  {
   "cell_type": "code",
   "execution_count": 5,
   "metadata": {},
   "outputs": [
    {
     "data": {
      "text/latex": [
       "$\\displaystyle x^{1.66666666666667} \\tanh{\\left(x \\right)}$"
      ],
      "text/plain": [
       "x**1.66666666666667*tanh(x)"
      ]
     },
     "execution_count": 5,
     "metadata": {},
     "output_type": "execute_result"
    }
   ],
   "source": [
    "expr = x**(5/3) * tanh(x)\n",
    "expr"
   ]
  },
  {
   "cell_type": "code",
   "execution_count": 6,
   "metadata": {},
   "outputs": [
    {
     "data": {
      "text/latex": [
       "$\\displaystyle 1.66666666666667 x^{0.666666666666667} \\tanh{\\left(x \\right)} + \\frac{x^{1.66666666666667}}{\\cosh^{2}{\\left(x \\right)}}$"
      ],
      "text/plain": [
       "1.66666666666667*x**0.666666666666667*tanh(x) + x**1.66666666666667/cosh(x)**2"
      ]
     },
     "execution_count": 6,
     "metadata": {},
     "output_type": "execute_result"
    }
   ],
   "source": [
    "simplify(diff(expr))"
   ]
  },
  {
   "cell_type": "code",
   "execution_count": 7,
   "metadata": {},
   "outputs": [
    {
     "data": {
      "text/latex": [
       "$\\displaystyle \\frac{\\cos{\\left(x - 1 \\right)}}{\\sinh{\\left(x \\right)}}$"
      ],
      "text/plain": [
       "cos(x - 1)/sinh(x)"
      ]
     },
     "execution_count": 7,
     "metadata": {},
     "output_type": "execute_result"
    }
   ],
   "source": [
    "expr = (cos(x-1))/sinh(x)\n",
    "expr"
   ]
  },
  {
   "cell_type": "code",
   "execution_count": 8,
   "metadata": {},
   "outputs": [
    {
     "data": {
      "text/latex": [
       "$\\displaystyle - \\frac{\\sin{\\left(x - 1 \\right)}}{\\sinh{\\left(x \\right)}} - \\frac{\\cos{\\left(x - 1 \\right)} \\cosh{\\left(x \\right)}}{\\sinh^{2}{\\left(x \\right)}}$"
      ],
      "text/plain": [
       "-sin(x - 1)/sinh(x) - cos(x - 1)*cosh(x)/sinh(x)**2"
      ]
     },
     "execution_count": 8,
     "metadata": {},
     "output_type": "execute_result"
    }
   ],
   "source": [
    "diff(expr)"
   ]
  },
  {
   "cell_type": "code",
   "execution_count": 9,
   "metadata": {},
   "outputs": [
    {
     "data": {
      "text/latex": [
       "$\\displaystyle \\frac{x^{2} - 2}{x^{3} + 2}$"
      ],
      "text/plain": [
       "(x**2 - 2)/(x**3 + 2)"
      ]
     },
     "execution_count": 9,
     "metadata": {},
     "output_type": "execute_result"
    }
   ],
   "source": [
    "expr = (x**2 - 2)/(x**3 + 2)\n",
    "expr"
   ]
  },
  {
   "cell_type": "code",
   "execution_count": 10,
   "metadata": {},
   "outputs": [
    {
     "data": {
      "text/latex": [
       "$\\displaystyle - \\frac{3 x^{2} \\left(x^{2} - 2\\right)}{\\left(x^{3} + 2\\right)^{2}} + \\frac{2 x}{x^{3} + 2}$"
      ],
      "text/plain": [
       "-3*x**2*(x**2 - 2)/(x**3 + 2)**2 + 2*x/(x**3 + 2)"
      ]
     },
     "execution_count": 10,
     "metadata": {},
     "output_type": "execute_result"
    }
   ],
   "source": [
    "diff(expr)"
   ]
  },
  {
   "cell_type": "code",
   "execution_count": 11,
   "metadata": {},
   "outputs": [
    {
     "data": {
      "text/latex": [
       "$\\displaystyle \\cos{\\left(x^{2} + 1 \\right)}$"
      ],
      "text/plain": [
       "cos(x**2 + 1)"
      ]
     },
     "execution_count": 11,
     "metadata": {},
     "output_type": "execute_result"
    }
   ],
   "source": [
    "expr = cos(x**2 + 1)\n",
    "expr"
   ]
  },
  {
   "cell_type": "code",
   "execution_count": 12,
   "metadata": {},
   "outputs": [
    {
     "data": {
      "text/latex": [
       "$\\displaystyle - 2 x \\sin{\\left(x^{2} + 1 \\right)}$"
      ],
      "text/plain": [
       "-2*x*sin(x**2 + 1)"
      ]
     },
     "execution_count": 12,
     "metadata": {},
     "output_type": "execute_result"
    }
   ],
   "source": [
    "diff(expr)"
   ]
  },
  {
   "cell_type": "code",
   "execution_count": 13,
   "metadata": {},
   "outputs": [
    {
     "data": {
      "text/latex": [
       "$\\displaystyle \\cos{\\left(x - 3 e^{x} + \\sinh{\\left(x \\right)} \\right)}$"
      ],
      "text/plain": [
       "cos(x - 3*exp(x) + sinh(x))"
      ]
     },
     "execution_count": 13,
     "metadata": {},
     "output_type": "execute_result"
    }
   ],
   "source": [
    "expr = cos(sinh(x) + x - 3*exp(x))\n",
    "expr"
   ]
  },
  {
   "cell_type": "code",
   "execution_count": 14,
   "metadata": {},
   "outputs": [
    {
     "data": {
      "text/latex": [
       "$\\displaystyle - \\left(- 3 e^{x} + \\cosh{\\left(x \\right)} + 1\\right) \\sin{\\left(x - 3 e^{x} + \\sinh{\\left(x \\right)} \\right)}$"
      ],
      "text/plain": [
       "-(-3*exp(x) + cosh(x) + 1)*sin(x - 3*exp(x) + sinh(x))"
      ]
     },
     "execution_count": 14,
     "metadata": {},
     "output_type": "execute_result"
    }
   ],
   "source": [
    "diff(expr)"
   ]
  },
  {
   "cell_type": "code",
   "execution_count": 15,
   "metadata": {},
   "outputs": [
    {
     "data": {
      "text/latex": [
       "$\\displaystyle \\left(\\log{\\left(x^{2} + 1 \\right)} + 3\\right)^{0.5}$"
      ],
      "text/plain": [
       "(log(x**2 + 1) + 3)**0.5"
      ]
     },
     "execution_count": 15,
     "metadata": {},
     "output_type": "execute_result"
    }
   ],
   "source": [
    "expr = (ln(x**2+1)+3)**0.5\n",
    "expr"
   ]
  },
  {
   "cell_type": "code",
   "execution_count": 16,
   "metadata": {},
   "outputs": [
    {
     "data": {
      "text/latex": [
       "$\\displaystyle \\frac{1.0 x}{\\left(x^{2} + 1\\right) \\left(\\log{\\left(x^{2} + 1 \\right)} + 3\\right)^{0.5}}$"
      ],
      "text/plain": [
       "1.0*x/((x**2 + 1)*(log(x**2 + 1) + 3)**0.5)"
      ]
     },
     "execution_count": 16,
     "metadata": {},
     "output_type": "execute_result"
    }
   ],
   "source": [
    "diff(expr)"
   ]
  },
  {
   "cell_type": "code",
   "execution_count": 17,
   "metadata": {},
   "outputs": [
    {
     "data": {
      "text/latex": [
       "$\\displaystyle \\sinh^{4}{\\left(x^{0.5} + \\sin{\\left(x \\right)} \\right)}$"
      ],
      "text/plain": [
       "sinh(x**0.5 + sin(x))**4"
      ]
     },
     "execution_count": 17,
     "metadata": {},
     "output_type": "execute_result"
    }
   ],
   "source": [
    "expr = sinh(x**0.5 + sin(x))**4\n",
    "expr"
   ]
  },
  {
   "cell_type": "code",
   "execution_count": 18,
   "metadata": {},
   "outputs": [
    {
     "data": {
      "text/latex": [
       "$\\displaystyle 4 \\left(\\frac{0.5}{x^{0.5}} + \\cos{\\left(x \\right)}\\right) \\sinh^{3}{\\left(x^{0.5} + \\sin{\\left(x \\right)} \\right)} \\cosh{\\left(x^{0.5} + \\sin{\\left(x \\right)} \\right)}$"
      ],
      "text/plain": [
       "4*(0.5/x**0.5 + cos(x))*sinh(x**0.5 + sin(x))**3*cosh(x**0.5 + sin(x))"
      ]
     },
     "execution_count": 18,
     "metadata": {},
     "output_type": "execute_result"
    }
   ],
   "source": [
    "diff(expr)"
   ]
  },
  {
   "cell_type": "code",
   "execution_count": 19,
   "metadata": {},
   "outputs": [
    {
     "data": {
      "text/latex": [
       "$\\displaystyle - 3 \\sin{\\left(2 x \\right)} + \\cos{\\left(2 x \\right)}$"
      ],
      "text/plain": [
       "-3*sin(2*x) + cos(2*x)"
      ]
     },
     "execution_count": 19,
     "metadata": {},
     "output_type": "execute_result"
    }
   ],
   "source": [
    "expr = cos(2*x) - 3*sin(2*x)\n",
    "expr"
   ]
  },
  {
   "cell_type": "code",
   "execution_count": 22,
   "metadata": {},
   "outputs": [
    {
     "data": {
      "text/latex": [
       "$\\displaystyle 8 \\left(\\sin{\\left(2 x \\right)} + 3 \\cos{\\left(2 x \\right)}\\right)$"
      ],
      "text/plain": [
       "8*(sin(2*x) + 3*cos(2*x))"
      ]
     },
     "execution_count": 22,
     "metadata": {},
     "output_type": "execute_result"
    }
   ],
   "source": [
    "diff(expr, x,3)"
   ]
  },
  {
   "cell_type": "code",
   "execution_count": 25,
   "metadata": {},
   "outputs": [
    {
     "data": {
      "text/latex": [
       "$\\displaystyle 0$"
      ],
      "text/plain": [
       "0"
      ]
     },
     "execution_count": 25,
     "metadata": {},
     "output_type": "execute_result"
    }
   ],
   "source": [
    "limit(x*ln(x), x,0)"
   ]
  },
  {
   "cell_type": "code",
   "execution_count": null,
   "metadata": {},
   "outputs": [],
   "source": []
  }
 ],
 "metadata": {
  "kernelspec": {
   "display_name": "base",
   "language": "python",
   "name": "python3"
  },
  "language_info": {
   "codemirror_mode": {
    "name": "ipython",
    "version": 3
   },
   "file_extension": ".py",
   "mimetype": "text/x-python",
   "name": "python",
   "nbconvert_exporter": "python",
   "pygments_lexer": "ipython3",
   "version": "3.12.7"
  }
 },
 "nbformat": 4,
 "nbformat_minor": 2
}
